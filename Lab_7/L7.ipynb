{
 "cells": [
  {
   "cell_type": "markdown",
   "metadata": {},
   "source": [
    "# MMC - Laboratorium 7 - Bartosz Sosik (310287)"
   ]
  },
  {
   "cell_type": "markdown",
   "metadata": {},
   "source": [
    "## Zadanie 3"
   ]
  },
  {
   "cell_type": "markdown",
   "metadata": {},
   "source": [
    "Celem zadania jest wyznaczenie niepewności pomiaru płytki. W tym celu zaimplementowano model Monte Carlo propagacji niepewności pomiaru: \\\n",
    "$Y = X_1 + X_2 + X_3 + X_4 -X_1[X_8(X_6+X_7)+X_5X_9] - K$. \\\n",
    "$K$ to nominalna długość płytki wynosząca 50mm. Zmienne X to zmienne losowe o różnych rozkładach:\n",
    "- Shifted t-Student $t_v(\\mu, \\sigma^2)$ \n",
    "- Równomierny $R(a,b)$\n",
    "- Gaussa $N(\\mu, \\sigma^2)$\n",
    "- Arcus sinus $U(a,b)$\n",
    "- Trapezowy $C_t(a,b,d)$\n",
    "\n",
    "Generatory zmiennych z tych rozkładów zostały zaimplementowane jako funkcje Pythona:"
   ]
  },
  {
   "cell_type": "code",
   "execution_count": 1,
   "metadata": {},
   "outputs": [
    {
     "name": "stderr",
     "output_type": "stream",
     "text": [
      "/usr/lib/python3/dist-packages/scipy/__init__.py:146: UserWarning: A NumPy version >=1.17.3 and <1.25.0 is required for this version of SciPy (detected version 1.26.2\n",
      "  warnings.warn(f\"A NumPy version >={np_minversion} and <{np_maxversion}\"\n"
     ]
    }
   ],
   "source": [
    "from matplotlib import pyplot as plt\n",
    "import math\n",
    "import random\n",
    "import numpy as np\n",
    "from scipy.stats import norm, t"
   ]
  },
  {
   "cell_type": "markdown",
   "metadata": {},
   "source": [
    "### Generatory zmiennych z założonych rozkładów"
   ]
  },
  {
   "cell_type": "code",
   "execution_count": 243,
   "metadata": {},
   "outputs": [],
   "source": [
    "# Rozkład Shifted t-Student\n",
    "def generate_tv(mi, sigma, v):\n",
    "    tv = t.rvs(v, mi, sigma, size=1)[0]\n",
    "    # return mi + (tv*sigma)/(math.sqrt(v+1))\n",
    "    return tv"
   ]
  },
  {
   "cell_type": "code",
   "execution_count": 203,
   "metadata": {},
   "outputs": [],
   "source": [
    "# Rozkład równomierny\n",
    "def generate_uniform(a, b):\n",
    "    return random.uniform(a, b)"
   ]
  },
  {
   "cell_type": "code",
   "execution_count": 204,
   "metadata": {},
   "outputs": [],
   "source": [
    "# Rozkład arcus sinus\n",
    "def generate_arcsin(a, b):\n",
    "    r = random.uniform(0, 1)\n",
    "    sample = (a+b)/2 + ((b-a)/2)*math.sin(2*math.pi*r)\n",
    "    return sample"
   ]
  },
  {
   "cell_type": "code",
   "execution_count": 226,
   "metadata": {},
   "outputs": [],
   "source": [
    "# Rozkład Gaussa\n",
    "def generate_gauss(mi, sigma):\n",
    "    return random.normalvariate(mi, sigma)"
   ]
  },
  {
   "cell_type": "code",
   "execution_count": 206,
   "metadata": {},
   "outputs": [],
   "source": [
    "# Rozkład trapezowy\n",
    "def generate_trap(a,b,d):\n",
    "    r1 = random.uniform(0, 1)\n",
    "    r2 = random.uniform(0, 1)\n",
    "    sample = a + ((b-a)/2)*((1+d)*r1 + (1-d)*r2)\n",
    "    return sample"
   ]
  },
  {
   "cell_type": "markdown",
   "metadata": {},
   "source": [
    "### Model Monte Carlo"
   ]
  },
  {
   "cell_type": "code",
   "execution_count": 244,
   "metadata": {},
   "outputs": [],
   "source": [
    "# Pojedynczy eksperyment MC liczący nepewność pomiaru\n",
    "def calculate_error():\n",
    "    X1 = generate_tv(50000623, 25, 18)\n",
    "    X2 = generate_tv(215, 6, 24)\n",
    "    X3 = generate_tv(0, 4, 5)\n",
    "    X4 = generate_tv(0, 7, 8)\n",
    "    X5 = generate_uniform(9.5*pow(10, -6), 1.35*pow(10, -5))\n",
    "    X6 = generate_gauss(-0.1, 0.2)\n",
    "    X7 = generate_arcsin(-0.5, 0.5)\n",
    "    X8 = generate_trap(-1*pow(10,-6), 1*pow(10, -6), 1*pow(10,-7))\n",
    "    X9 = generate_trap(-0.05, 0.05, 0.025)\n",
    "    Y = X1 + X2 + X3 + X4 - X1*(X8*(X6+X7)+X5*X9) - 50*pow(10, 6)\n",
    "    return Y"
   ]
  },
  {
   "cell_type": "markdown",
   "metadata": {},
   "source": [
    "Przeprowadzonych zostało 100 tys. eksperymentów Monte Carlo. W każdej iteracji liczona była niepewnośc pomiaru i zapisywana do listy. \\\n",
    "Estymator tej niepewności liczony jest jako średnia wyników: $y_e=\\frac{1}{M}\\sum_{i=1}^{M}y_r$ \\\n",
    "Odchylenie standardowe estymatora liczymy jako: $\\sigma = \\sqrt(\\frac{1}{M-1}\\sum_{r=1}{M}(y_r-y_e)^2)$"
   ]
  },
  {
   "cell_type": "code",
   "execution_count": 260,
   "metadata": {},
   "outputs": [],
   "source": [
    "# M eksperymentów Monte Carlo\n",
    "M = 1000000\n",
    "errors = []\n",
    "for i in range(M):\n",
    "    Y = calculate_error()\n",
    "    errors.append(Y)\n",
    "\n",
    "# Estymator Y\n",
    "estimator = np.mean(errors)\n",
    "\n",
    "# Std. deviation of estimator Y\n",
    "sum_ = 0\n",
    "for error in errors:\n",
    "    sum_ += (error-estimator)**2\n",
    "std = math.sqrt(1/(M-1)*sum_)"
   ]
  },
  {
   "cell_type": "code",
   "execution_count": 262,
   "metadata": {},
   "outputs": [
    {
     "name": "stdout",
     "output_type": "stream",
     "text": [
      "Estymator Y: 837.9870713967944\n",
      "Odchylenie standardowe: 32.308941061024036\n"
     ]
    }
   ],
   "source": [
    "print(f'Estymator Y: {estimator}')\n",
    "print(f'Odchylenie standardowe: {std}')"
   ]
  },
  {
   "cell_type": "markdown",
   "metadata": {},
   "source": [
    "Następnie wyznaczony został przedział rozproszenia dla $p=0.99$. Ilość obserwacji, które nie mieszczą się w tym przedziale to $M-q$, gdzie $q=pM$. Wartości graniczne to: \\\n",
    "$y_{min} = y_r[(M-q)/2]$ oraz \\\n",
    "$y_{max} = y_r[(M-q)/2+q]$."
   ]
  },
  {
   "cell_type": "code",
   "execution_count": 274,
   "metadata": {},
   "outputs": [
    {
     "name": "stdout",
     "output_type": "stream",
     "text": [
      "Przedział rozproszenia: [752.3814921602607, 923.55761885643]\n"
     ]
    }
   ],
   "source": [
    "p = 0.99\n",
    "q = int(M*p)\n",
    "sorted_errors = sorted(errors)\n",
    "r_star = int((M-q)/2)\n",
    "y_min = sorted_errors[r_star+1]\n",
    "y_max = sorted_errors[r_star+q+1]\n",
    "dispersion = [y_min, y_max]\n",
    "print(f'Przedział rozproszenia: {dispersion}')"
   ]
  },
  {
   "cell_type": "code",
   "execution_count": 270,
   "metadata": {},
   "outputs": [
    {
     "data": {
      "text/plain": [
       "<matplotlib.legend.Legend at 0x7f6557caffd0>"
      ]
     },
     "execution_count": 270,
     "metadata": {},
     "output_type": "execute_result"
    },
    {
     "data": {
      "image/png": "[encoded data removed]",
      "text/plain": [
       "<Figure size 640x480 with 1 Axes>"
      ]
     },
     "metadata": {},
     "output_type": "display_data"
    }
   ],
   "source": [
    "x = np.linspace(estimator - 4*std, estimator + 4*std, 1000)\n",
    "y = norm.pdf(x, estimator, std)\n",
    "plt.hist(errors, bins=100, density=True)\n",
    "plt.plot(x,y)\n",
    "plt.axvline(dispersion[0], color='r', label='Przedział rozproszenia')\n",
    "plt.axvline(dispersion[1], color='r')\n",
    "plt.title('Wyniki dla symulacji MC')\n",
    "plt.xlabel('Wartość niepewności')\n",
    "plt.ylabel('Gęstość prawdopodobieństwa')\n",
    "plt.legend(loc='best')"
   ]
  },
  {
   "cell_type": "markdown",
   "metadata": {},
   "source": [
    "Wyniki eksperymentu przypominaja te osiągnięte przez autorów artykułu. Porównanie przedstawione zostało w poniższej tabeli:\n",
    "| Wielkość | Wynik | Artykuł |\n",
    "|:---------|:--------:|---------:|\n",
    "|  Estymata  |  837.98   |  838   |\n",
    "|  Odchylenie standardowe   |  32.31   |  36  |\n",
    "|  Przedział rozproszenia   |  [752.38, 923.56]  |  [745, 932]   |"
   ]
  },
  {
   "cell_type": "markdown",
   "metadata": {},
   "source": [
    "Estymaty są praktycznie takie same. \\\n",
    "W moim przypadku uzyskano mniejsze odchylenie standardowe o około 3.7 w porównaniu do autorów artykułu. Uzyskali oni natomiast odchylenie standardowe 32 za pomocą metody GUF. \\\n",
    "W związku z tym że uzyskałem mniejsze odchylenie standardowe, również uzyskany przedział rozproszenia jest mniejszy i bardziej \"zbity\". \\\n",
    "Różnice te mogą wynikać ze sposobu liczenia powyższych wartości a także niedeterministycznej natury eksperymentów Monte Carlo."
   ]
  }
 ],
 "metadata": {
  "kernelspec": {
   "display_name": "Python 3",
   "language": "python",
   "name": "python3"
  },
  "language_info": {
   "codemirror_mode": {
    "name": "ipython",
    "version": 3
   },
   "file_extension": ".py",
   "mimetype": "text/x-python",
   "name": "python",
   "nbconvert_exporter": "python",
   "pygments_lexer": "ipython3",
   "version": "3.10.12"
  }
 },
 "nbformat": 4,
 "nbformat_minor": 2
}
